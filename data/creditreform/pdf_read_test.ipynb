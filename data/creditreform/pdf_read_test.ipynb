{
 "cells": [
  {
   "cell_type": "code",
   "execution_count": 51,
   "metadata": {},
   "outputs": [
    {
     "name": "stdout",
     "output_type": "stream",
     "text": [
      "//anaconda3/envs/nf/bin/python: can't open file 'install': [Errno 2] No such file or directory\r\n"
     ]
    }
   ],
   "source": [
    "import sys\n",
    "!{sys.executable} install -c conda-forge camelot-py --y"
   ]
  },
  {
   "cell_type": "code",
   "execution_count": 49,
   "metadata": {},
   "outputs": [
    {
     "ename": "AttributeError",
     "evalue": "module 'camelot' has no attribute 'read_pdf'",
     "output_type": "error",
     "traceback": [
      "\u001b[0;31m---------------------------------------------------------------------------\u001b[0m",
      "\u001b[0;31mAttributeError\u001b[0m                            Traceback (most recent call last)",
      "\u001b[0;32m<ipython-input-49-998a2d16e6ab>\u001b[0m in \u001b[0;36m<module>\u001b[0;34m()\u001b[0m\n\u001b[1;32m      1\u001b[0m \u001b[0;32mimport\u001b[0m \u001b[0mcamelot\u001b[0m\u001b[0;34m\u001b[0m\u001b[0m\n\u001b[1;32m      2\u001b[0m \u001b[0mfile\u001b[0m \u001b[0;34m=\u001b[0m \u001b[0;34m'SchuldnerAtlas-2018-nach-Kreisen-alphabetisch.pdf'\u001b[0m\u001b[0;34m\u001b[0m\u001b[0m\n\u001b[0;32m----> 3\u001b[0;31m \u001b[0mtables\u001b[0m \u001b[0;34m=\u001b[0m \u001b[0mcamelot\u001b[0m\u001b[0;34m.\u001b[0m\u001b[0mread_pdf\u001b[0m\u001b[0;34m(\u001b[0m\u001b[0mfile\u001b[0m\u001b[0;34m)\u001b[0m\u001b[0;34m\u001b[0m\u001b[0m\n\u001b[0m",
      "\u001b[0;31mAttributeError\u001b[0m: module 'camelot' has no attribute 'read_pdf'"
     ]
    }
   ],
   "source": [
    "import camelot\n",
    "file = 'SchuldnerAtlas-2018-nach-Kreisen-alphabetisch.pdf'\n",
    "tables = camelot.read_pdf(file)"
   ]
  },
  {
   "cell_type": "code",
   "execution_count": 48,
   "metadata": {},
   "outputs": [
    {
     "name": "stdout",
     "output_type": "stream",
     "text": [
      "Collecting package metadata (current_repodata.json): done\n",
      "Solving environment: failed with initial frozen solve. Retrying with flexible solve.\n",
      "Solving environment: failed with repodata from current_repodata.json, will retry with next repodata source.\n",
      "Collecting package metadata (repodata.json): done\n",
      "Solving environment: done\n",
      "\n",
      "\n",
      "==> WARNING: A newer version of conda exists. <==\n",
      "  current version: 4.7.12\n",
      "  latest version: 4.8.0\n",
      "\n",
      "Please update conda by running\n",
      "\n",
      "    $ conda update -n base conda\n",
      "\n",
      "\n",
      "\n",
      "## Package Plan ##\n",
      "\n",
      "  environment location: //anaconda3/envs/nf\n",
      "\n",
      "  added / updated specs:\n",
      "    - camelot-py\n",
      "\n",
      "\n",
      "The following packages will be downloaded:\n",
      "\n",
      "    package                    |            build\n",
      "    ---------------------------|-----------------\n",
      "    bzip2-1.0.8                |       h0b31af3_2         152 KB  conda-forge\n",
      "    ca-certificates-2019.11.28 |       hecc5488_0         145 KB  conda-forge\n",
      "    cairo-1.16.0               |    he1c11cd_1002         1.3 MB  conda-forge\n",
      "    camelot-py-0.7.3           |           py36_0          65 KB  conda-forge\n",
      "    certifi-2019.11.28         |           py36_0         148 KB  conda-forge\n",
      "    click-7.0                  |             py_0          61 KB  conda-forge\n",
      "    et_xmlfile-1.0.1           |          py_1001          11 KB  conda-forge\n",
      "    fontconfig-2.13.1          |    h6b1039f_1001         270 KB  conda-forge\n",
      "    gettext-0.19.8.1           |    h46ab8bc_1002         3.3 MB  conda-forge\n",
      "    glib-2.58.3                |    h9d45998_1002         3.1 MB  conda-forge\n",
      "    gmp-6.1.2                  |    h0a44026_1000         734 KB  conda-forge\n",
      "    harfbuzz-2.4.0             |       hd8d2a14_3         1.2 MB  conda-forge\n",
      "    icu-64.2                   |       h6de7cb9_1        12.3 MB  conda-forge\n",
      "    jdcal-1.4.1                |             py_0           9 KB  conda-forge\n",
      "    libblas-3.8.0              |           14_mkl          10 KB  conda-forge\n",
      "    libcblas-3.8.0             |           14_mkl          10 KB  conda-forge\n",
      "    libiconv-1.15              |    h01d97ff_1005         1.3 MB  conda-forge\n",
      "    liblapack-3.8.0            |           14_mkl          10 KB  conda-forge\n",
      "    liblapacke-3.8.0           |           14_mkl          10 KB  conda-forge\n",
      "    libxml2-2.9.10             |       h53d96d6_0         1.2 MB  conda-forge\n",
      "    opencv-4.1.0               |   py36h3012f30_4        30.1 MB  conda-forge\n",
      "    openpyxl-3.0.1             |             py_0         152 KB  conda-forge\n",
      "    openssl-1.0.2t             |       h1de35cc_0         3.1 MB  conda-forge\n",
      "    pcre-8.41                  |    h0a44026_1003         222 KB  conda-forge\n",
      "    pixman-0.38.0              |    h01d97ff_1003         611 KB  conda-forge\n",
      "    pycryptodome-3.9.4         |   py36h65ac59c_0         7.9 MB  conda-forge\n",
      "    sortedcontainers-2.1.0     |             py_0          25 KB  conda-forge\n",
      "    ------------------------------------------------------------\n",
      "                                           Total:        67.5 MB\n",
      "\n",
      "The following NEW packages will be INSTALLED:\n",
      "\n",
      "  bzip2              conda-forge/osx-64::bzip2-1.0.8-h0b31af3_2\n",
      "  cairo              conda-forge/osx-64::cairo-1.16.0-he1c11cd_1002\n",
      "  camelot-py         conda-forge/osx-64::camelot-py-0.7.3-py36_0\n",
      "  click              conda-forge/noarch::click-7.0-py_0\n",
      "  et_xmlfile         conda-forge/noarch::et_xmlfile-1.0.1-py_1001\n",
      "  ffmpeg             conda-forge/osx-64::ffmpeg-4.1.3-h5c2b479_0\n",
      "  fontconfig         conda-forge/osx-64::fontconfig-2.13.1-h6b1039f_1001\n",
      "  gettext            conda-forge/osx-64::gettext-0.19.8.1-h46ab8bc_1002\n",
      "  ghostscript        conda-forge/osx-64::ghostscript-9.22-h0a44026_1001\n",
      "  giflib             conda-forge/osx-64::giflib-5.1.7-h01d97ff_1\n",
      "  glib               conda-forge/osx-64::glib-2.58.3-h9d45998_1002\n",
      "  gmp                conda-forge/osx-64::gmp-6.1.2-h0a44026_1000\n",
      "  gnutls             conda-forge/osx-64::gnutls-3.6.5-h53004b3_1002\n",
      "  graphite2          conda-forge/osx-64::graphite2-1.3.13-h2098e52_1000\n",
      "  harfbuzz           conda-forge/osx-64::harfbuzz-2.4.0-hd8d2a14_3\n",
      "  icu                conda-forge/osx-64::icu-64.2-h6de7cb9_1\n",
      "  jasper             conda-forge/osx-64::jasper-1.900.1-h636a363_1006\n",
      "  jdcal              conda-forge/noarch::jdcal-1.4.1-py_0\n",
      "  lame               conda-forge/osx-64::lame-3.100-h1de35cc_1001\n",
      "  libblas            conda-forge/osx-64::libblas-3.8.0-14_mkl\n",
      "  libcblas           conda-forge/osx-64::libcblas-3.8.0-14_mkl\n",
      "  libiconv           conda-forge/osx-64::libiconv-1.15-h01d97ff_1005\n",
      "  liblapack          conda-forge/osx-64::liblapack-3.8.0-14_mkl\n",
      "  liblapacke         conda-forge/osx-64::liblapacke-3.8.0-14_mkl\n",
      "  libwebp            conda-forge/osx-64::libwebp-1.0.2-h20df551_3\n",
      "  libxml2            conda-forge/osx-64::libxml2-2.9.10-h53d96d6_0\n",
      "  nettle             conda-forge/osx-64::nettle-3.4.1-h3efe00b_1002\n",
      "  opencv             conda-forge/osx-64::opencv-4.1.0-py36h3012f30_4\n",
      "  openh264           conda-forge/osx-64::openh264-1.8.0-hd9629dc_1000\n",
      "  openpyxl           conda-forge/noarch::openpyxl-3.0.1-py_0\n",
      "  pcre               conda-forge/osx-64::pcre-8.41-h0a44026_1003\n",
      "  pdfminer.six       conda-forge/noarch::pdfminer.six-20191020-py_0\n",
      "  pixman             conda-forge/osx-64::pixman-0.38.0-h01d97ff_1003\n",
      "  pycryptodome       conda-forge/osx-64::pycryptodome-3.9.4-py36h65ac59c_0\n",
      "  pypdf2             conda-forge/noarch::pypdf2-1.26.0-py_2\n",
      "  sortedcontainers   conda-forge/noarch::sortedcontainers-2.1.0-py_0\n",
      "  x264               conda-forge/osx-64::x264-1!152.20180806-h1de35cc_0\n",
      "\n",
      "The following packages will be UPDATED:\n",
      "\n",
      "  ca-certificates    pkgs/main::ca-certificates-2019.11.27~ --> conda-forge::ca-certificates-2019.11.28-hecc5488_0\n",
      "  jpeg                        pkgs/main::jpeg-9b-he5867d9_2 --> conda-forge::jpeg-9c-h1de35cc_1001\n",
      "\n",
      "The following packages will be SUPERSEDED by a higher-priority channel:\n",
      "\n",
      "  certifi                                         pkgs/main --> conda-forge\n",
      "  openssl              pkgs/main::openssl-1.0.2t-h1de35cc_1 --> conda-forge::openssl-1.0.2t-h1de35cc_0\n",
      "\n",
      "\n",
      "\n",
      "Downloading and Extracting Packages\n",
      "sortedcontainers-2.1 | 25 KB     | ##################################### | 100% \n",
      "libblas-3.8.0        | 10 KB     | ##################################### | 100% \n",
      "gmp-6.1.2            | 734 KB    | ##################################### | 100% \n",
      "glib-2.58.3          | 3.1 MB    | ##################################### | 100% \n",
      "jdcal-1.4.1          | 9 KB      | ##################################### | 100% \n",
      "opencv-4.1.0         | 30.1 MB   | ##################################### | 100% \n",
      "click-7.0            | 61 KB     | ##################################### | 100% \n",
      "certifi-2019.11.28   | 148 KB    | ##################################### | 100% \n",
      "libxml2-2.9.10       | 1.2 MB    | ##################################### | 100% \n",
      "pycryptodome-3.9.4   | 7.9 MB    | ##################################### | 100% \n",
      "pixman-0.38.0        | 611 KB    | ##################################### | 100% \n",
      "fontconfig-2.13.1    | 270 KB    | ##################################### | 100% \n",
      "liblapacke-3.8.0     | 10 KB     | ##################################### | 100% \n",
      "et_xmlfile-1.0.1     | 11 KB     | ##################################### | 100% \n",
      "openssl-1.0.2t       | 3.1 MB    | ##################################### | 100% \n",
      "ca-certificates-2019 | 145 KB    | ##################################### | 100% \n",
      "liblapack-3.8.0      | 10 KB     | ##################################### | 100% \n",
      "camelot-py-0.7.3     | 65 KB     | ##################################### | 100% \n",
      "cairo-1.16.0         | 1.3 MB    | ##################################### | 100% \n",
      "libcblas-3.8.0       | 10 KB     | ##################################### | 100% \n",
      "harfbuzz-2.4.0       | 1.2 MB    | ##################################### | 100% \n",
      "openpyxl-3.0.1       | 152 KB    | ##################################### | 100% \n",
      "libiconv-1.15        | 1.3 MB    | ##################################### | 100% \n",
      "icu-64.2             | 12.3 MB   | ##################################### | 100% \n",
      "gettext-0.19.8.1     | 3.3 MB    | ##################################### | 100% \n",
      "bzip2-1.0.8          | 152 KB    | ##################################### | 100% \n"
     ]
    },
    {
     "name": "stdout",
     "output_type": "stream",
     "text": [
      "pcre-8.41            | 222 KB    | ##################################### | 100% \n",
      "Preparing transaction: done\n",
      "Verifying transaction: done\n",
      "Executing transaction: done\n"
     ]
    }
   ],
   "source": [
    "!conda install -c conda-forge camelot-py --y"
   ]
  },
  {
   "cell_type": "code",
   "execution_count": 27,
   "metadata": {},
   "outputs": [
    {
     "name": "stdout",
     "output_type": "stream",
     "text": [
      "Camelot (13.04.13-gpl-pyqt)  - A python GUI framework on top of Sqlalchemy and\r\n",
      "                               Qt, inspired by the Django admin interface.\r\n",
      "                               Start building desktop applications at warp\r\n",
      "                               speed, simply by adding some additional\r\n",
      "                               information to you model definition.\r\n",
      "python-camelot (0.7.2)       - PDF Table Extraction for Humans.\r\n",
      "camelot-py (0.7.3)           - PDF Table Extraction for Humans.\r\n",
      "CamelotPro (1.2.1)           - CamelotPro is a layer on camelot-py library to\r\n",
      "                               extract tables from Scan PDFs and Images.\r\n",
      "pdf2tables (0.3.5)           - extract tables from pdf using camelot, if page\r\n",
      "                               is image-base, use ocr to extract\r\n"
     ]
    }
   ],
   "source": [
    "!pip search camelot"
   ]
  },
  {
   "cell_type": "code",
   "execution_count": 26,
   "metadata": {},
   "outputs": [
    {
     "name": "stdout",
     "output_type": "stream",
     "text": [
      "\u001b[33mWARNING: Skipping camelot as it is not installed.\u001b[0m\r\n"
     ]
    }
   ],
   "source": [
    "!pip uninstall camelot --y"
   ]
  },
  {
   "cell_type": "code",
   "execution_count": 28,
   "metadata": {},
   "outputs": [
    {
     "name": "stdout",
     "output_type": "stream",
     "text": [
      "Collecting camelot-py[cv]\n",
      "  Using cached https://files.pythonhosted.org/packages/70/d6/a47894242a6fba58a2332489358afedc6209da43942ab7f850b932019101/camelot_py-0.7.3-py3-none-any.whl\n",
      "Requirement already satisfied: click>=6.7 in /anaconda3/envs/nf/lib/python3.6/site-packages (from camelot-py[cv]) (7.0)\n",
      "Requirement already satisfied: pandas>=0.23.4 in /anaconda3/envs/nf/lib/python3.6/site-packages (from camelot-py[cv]) (0.23.4)\n",
      "Requirement already satisfied: chardet>=3.0.4 in /anaconda3/envs/nf/lib/python3.6/site-packages (from camelot-py[cv]) (3.0.4)\n",
      "Requirement already satisfied: PyPDF2>=1.26.0 in /anaconda3/envs/nf/lib/python3.6/site-packages (from camelot-py[cv]) (1.26.0)\n",
      "Requirement already satisfied: openpyxl>=2.5.8 in /anaconda3/envs/nf/lib/python3.6/site-packages (from camelot-py[cv]) (3.0.2)\n",
      "Requirement already satisfied: pdfminer.six>=20170720 in /anaconda3/envs/nf/lib/python3.6/site-packages (from camelot-py[cv]) (20191110)\n",
      "Requirement already satisfied: numpy>=1.13.3 in /anaconda3/envs/nf/lib/python3.6/site-packages (from camelot-py[cv]) (1.17.2)\n",
      "Requirement already satisfied: opencv-python>=3.4.2.17; extra == \"cv\" in /anaconda3/envs/nf/lib/python3.6/site-packages (from camelot-py[cv]) (4.1.2.30)\n",
      "Requirement already satisfied: python-dateutil>=2.5.0 in /anaconda3/envs/nf/lib/python3.6/site-packages (from pandas>=0.23.4->camelot-py[cv]) (2.8.0)\n",
      "Requirement already satisfied: pytz>=2011k in /anaconda3/envs/nf/lib/python3.6/site-packages (from pandas>=0.23.4->camelot-py[cv]) (2018.5)\n",
      "Requirement already satisfied: jdcal in /anaconda3/envs/nf/lib/python3.6/site-packages (from openpyxl>=2.5.8->camelot-py[cv]) (1.4.1)\n",
      "Requirement already satisfied: et-xmlfile in /anaconda3/envs/nf/lib/python3.6/site-packages (from openpyxl>=2.5.8->camelot-py[cv]) (1.0.1)\n",
      "Requirement already satisfied: sortedcontainers in /anaconda3/envs/nf/lib/python3.6/site-packages (from pdfminer.six>=20170720->camelot-py[cv]) (2.1.0)\n",
      "Requirement already satisfied: six in /anaconda3/envs/nf/lib/python3.6/site-packages (from pdfminer.six>=20170720->camelot-py[cv]) (1.11.0)\n",
      "Requirement already satisfied: pycryptodome in /anaconda3/envs/nf/lib/python3.6/site-packages (from pdfminer.six>=20170720->camelot-py[cv]) (3.9.4)\n",
      "Installing collected packages: camelot-py\n",
      "Successfully installed camelot-py-0.7.3\n"
     ]
    }
   ],
   "source": [
    "!pip install camelot-py[cv]"
   ]
  }
 ],
 "metadata": {
  "kernelspec": {
   "display_name": "Python 3",
   "language": "python",
   "name": "python3"
  },
  "language_info": {
   "codemirror_mode": {
    "name": "ipython",
    "version": 3
   },
   "file_extension": ".py",
   "mimetype": "text/x-python",
   "name": "python",
   "nbconvert_exporter": "python",
   "pygments_lexer": "ipython3",
   "version": "3.6.6"
  }
 },
 "nbformat": 4,
 "nbformat_minor": 2
}

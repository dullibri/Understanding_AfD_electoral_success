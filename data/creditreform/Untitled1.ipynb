{
 "cells": [
  {
   "cell_type": "code",
   "execution_count": 62,
   "metadata": {},
   "outputs": [],
   "source": [
    "import pandas as pd\n",
    "import os\n",
    "import re"
   ]
  },
  {
   "cell_type": "code",
   "execution_count": 11,
   "metadata": {},
   "outputs": [
    {
     "data": {
      "text/plain": [
       "'/Users/dirkulbricht/Understanding_AfD_electoral_success/data/creditreform'"
      ]
     },
     "execution_count": 11,
     "metadata": {},
     "output_type": "execute_result"
    }
   ],
   "source": [
    "os.listdir(os.chdir('../'))\n"
   ]
  },
  {
   "cell_type": "code",
   "execution_count": 56,
   "metadata": {},
   "outputs": [
    {
     "data": {
      "text/plain": [
       "['foo-page-9-table-1.csv',\n",
       " 'foo-page-5-table-1.csv',\n",
       " 'foo-page-6-table-1.csv',\n",
       " 'foo-page-10-table-1.csv',\n",
       " 'foo-page-3-table-1.csv',\n",
       " 'foo-page-4-table-1.csv',\n",
       " 'foo-page-8-table-1.csv',\n",
       " 'foo-page-1-table-1.csv',\n",
       " 'foo-page-2-table-1.csv',\n",
       " 'foo-page-11-table-1.csv',\n",
       " 'foo-page-7-table-1.csv']"
      ]
     },
     "execution_count": 56,
     "metadata": {},
     "output_type": "execute_result"
    }
   ],
   "source": [
    "ls = os.listdir('foo')\n",
    "re.findall(ls[0],'[1-11]')\n",
    "ls"
   ]
  },
  {
   "cell_type": "code",
   "execution_count": 82,
   "metadata": {},
   "outputs": [],
   "source": [
    "foo_ = pd.read_csv('foo/foo-page-1-table-1.csv',header=[0,1],decimal=',')\n",
    "for i in range(2,len(ls)+1):\n",
    "    foo_add = pd.read_csv('foo/foo-page-'+str(i)+'-table-1.csv',header=[0,1],decimal=',')\n",
    "    foo_ = foo_.append(foo_add)\n"
   ]
  },
  {
   "cell_type": "code",
   "execution_count": 86,
   "metadata": {},
   "outputs": [
    {
     "data": {
      "text/plain": [
       "g \\n \\n \\nNr.                 Unnamed: 0_level_1     object\n",
       "Kreise und kreisfreie Städte  Unnamed: 1_level_1     object\n",
       "Bundesland                    Unnamed: 2_level_1     object\n",
       "Unnamed: 3_level_0            Unnamed: 3_level_1     object\n",
       "Schuldnerquoten in %          Typ  2013             float64\n",
       "Unnamed: 5_level_0            2014                  float64\n",
       "Unnamed: 6_level_0            2015                  float64\n",
       "Unnamed: 7_level_0            2016                  float64\n",
       "Unnamed: 8_level_0            2017                  float64\n",
       "Unnamed: 9_level_0            2018                  float64\n",
       "dtype: object"
      ]
     },
     "execution_count": 86,
     "metadata": {},
     "output_type": "execute_result"
    }
   ],
   "source": [
    "foo_.head()\n",
    "foo_.dtypes"
   ]
  }
 ],
 "metadata": {
  "kernelspec": {
   "display_name": "Python [conda env:nf] *",
   "language": "python",
   "name": "conda-env-nf-py"
  },
  "language_info": {
   "codemirror_mode": {
    "name": "ipython",
    "version": 3
   },
   "file_extension": ".py",
   "mimetype": "text/x-python",
   "name": "python",
   "nbconvert_exporter": "python",
   "pygments_lexer": "ipython3",
   "version": "3.6.6"
  }
 },
 "nbformat": 4,
 "nbformat_minor": 2
}
